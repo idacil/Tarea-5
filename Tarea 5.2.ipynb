{
 "cells": [
  {
   "cell_type": "code",
   "execution_count": 42,
   "id": "3ab052f3",
   "metadata": {},
   "outputs": [],
   "source": [
    "import tensorflow as tf\n",
    "from tensorflow import keras\n",
    "from tensorflow.keras.models import Sequential\n",
    "from tensorflow.keras.layers import Dense, Dropout\n",
    "from tensorflow.keras.optimizers import RMSprop, Adam\n",
    "from matplotlib import pyplot as plt\n",
    "import numpy as np\n",
    "import math"
   ]
  },
  {
   "cell_type": "code",
   "execution_count": 61,
   "id": "173ebce0",
   "metadata": {},
   "outputs": [],
   "source": [
    "class Funsolvea(Sequential):\n",
    "    def __init__(self, **kwargs):\n",
    "        super().__init__(**kwargs)\n",
    "        #Se define la métrica que nos funciona para monitorear la evolución del entrenamiento. \n",
    "        self.loss_tracker = keras.metrics.Mean(name=\"loss\") #loss_tracker pude ser cambiada por mivalor_de_costo o como queramos\n",
    "        \n",
    "    @property #Este es u \"decorador\" que funciona para definir el método de acceso para los atributos de la clase \n",
    "    def metrics(self):\n",
    "        return [self.loss_tracker] #igual cambia el loss_tracker\n",
    "    \n",
    "    \n",
    "    def train_step(self, data):\n",
    "        batch_size = 200 #Calibra la resolucion de la ec.dif\n",
    "        x = tf.random.uniform((batch_size,1), minval=-1, maxval=1)\n",
    "        \n",
    "        with tf.GradientTape() as tape: #Realiza los gradientes automáticos\n",
    "            y_pred = self(x, training=True)\n",
    "            eq = y_pred - 3.*tf.sin(math.pi*x) #Ecuación a Reproducir\n",
    "            \n",
    "            loss = keras.losses.mean_squared_error(0.,eq) #Calcula el error cuadrático medio entre el 0 y la eq.\n",
    "            \n",
    "        #aplica los gradientes a la pérdida según las variables de entrenamiento       \n",
    "        grads = tape.gradient(loss, self.trainable_variables)\n",
    "\n",
    "        self.optimizer.apply_gradients(zip(grads, self.trainable_variables))\n",
    "\n",
    "        \n",
    "        #actualiza metricas\n",
    "        self.loss_tracker.update_state(loss)\n",
    "\n",
    "        return {\"loss\": self.loss_tracker.result()}\n",
    "    "
   ]
  },
  {
   "cell_type": "code",
   "execution_count": 62,
   "id": "52074f36",
   "metadata": {},
   "outputs": [
    {
     "name": "stdout",
     "output_type": "stream",
     "text": [
      "Model: \"funsolvea_11\"\n",
      "_________________________________________________________________\n",
      " Layer (type)                Output Shape              Param #   \n",
      "=================================================================\n",
      " dense_49 (Dense)            (None, 100)               200       \n",
      "                                                                 \n",
      " dense_50 (Dense)            (None, 30)                3030      \n",
      "                                                                 \n",
      " dense_51 (Dense)            (None, 100)               3100      \n",
      "                                                                 \n",
      " dense_52 (Dense)            (None, 30)                3030      \n",
      "                                                                 \n",
      " dense_53 (Dense)            (None, 1)                 31        \n",
      "                                                                 \n",
      "=================================================================\n",
      "Total params: 9391 (36.68 KB)\n",
      "Trainable params: 9391 (36.68 KB)\n",
      "Non-trainable params: 0 (0.00 Byte)\n",
      "_________________________________________________________________\n"
     ]
    }
   ],
   "source": [
    "#Aquí se describe el modelo\n",
    "model = Funsolvea()\n",
    "    \n",
    "model.add(Dense(100,activation ='tanh', input_shape=(1,)))\n",
    "model.add(Dense(30, activation ='tanh'))\n",
    "model.add(Dense(100, activation ='tanh'))\n",
    "model.add(Dense(30, activation ='sigmoid'))\n",
    "model.add(Dense(1, activation ='linear'))\n",
    "    \n",
    "model.summary()\n"
   ]
  },
  {
   "cell_type": "code",
   "execution_count": 65,
   "id": "b845bb4a",
   "metadata": {},
   "outputs": [
    {
     "name": "stdout",
     "output_type": "stream",
     "text": [
      "4/4 [==============================] - 0s 1ms/step\n"
     ]
    }
   ],
   "source": [
    "epochs = 1000 #cuantas veces entrenar. En cada epoch hace una mejora en los parametros\n",
    "\n",
    "model.compile(optimizer=Adam(), metrics=['loss'])\n",
    "#Se define el vector con 100 elementos entre -1 y 1 como se pide en la tarea\n",
    "x = tf.linspace(-1,1,100)\n",
    "history = model.fit(x,epochs=epochs, verbose=0) \n",
    "\n",
    "x_testv = tf.linspace(-1,1,100)\n",
    "a = model.predict(x_testv)\n",
    "model.save(\"eq1.keras\")"
   ]
  },
  {
   "cell_type": "code",
   "execution_count": 66,
   "id": "b77c395e",
   "metadata": {},
   "outputs": [
    {
     "data": {
      "image/png": "[encoded data removed]",
      "text/plain": [
       "<Figure size 720x432 with 1 Axes>"
      ]
     },
     "metadata": {
      "needs_background": "light"
     },
     "output_type": "display_data"
    }
   ],
   "source": [
    "#Aquí se comparan las gráficas de la predicción y del test\n",
    "plt.figure(figsize=(10,6))\n",
    "plt.plot(x_testv,a)\n",
    "plt.plot(x_testv, 3*np.sin(np.pi*x))\n",
    "legend = ['Grafica red','Grafica función']\n",
    "plt.legend(loc='upper left', labels= legend)\n",
    "plt.show()"
   ]
  },
  {
   "cell_type": "code",
   "execution_count": null,
   "id": "7fdbcb39",
   "metadata": {},
   "outputs": [],
   "source": []
  },
  {
   "cell_type": "code",
   "execution_count": 84,
   "id": "6122b6c1",
   "metadata": {},
   "outputs": [],
   "source": [
    "class Funsolve2(Sequential):\n",
    "    def __init__(self, **kwargs):\n",
    "        super().__init__(**kwargs)\n",
    "        self.loss_tracker = keras.metrics.Mean(name=\"loss\") #loss_tracker pude ser cambiada por mivalor_de_costo o como queramos  \n",
    "    @property\n",
    "    def metrics(self):\n",
    "        return [self.loss_tracker] #igual cambia el loss_tracker\n",
    "    def train_step(self, data):\n",
    "        batch_size =100 #Calibra la resolucion de la ec.dif\n",
    "        x = tf.random.uniform((batch_size,1), minval=-1, maxval=1)\n",
    "        with tf.GradientTape() as tape:\n",
    "            y_pred = self(x, training=True)\n",
    "            eq = y_pred - 1 - 2*x - 4*x**3\n",
    "            loss = keras.losses.mean_squared_error(0.,eq)        \n",
    "        grads = tape.gradient(loss, self.trainable_variables)\n",
    "        self.optimizer.apply_gradients(zip(grads, self.trainable_variables))        \n",
    "        self.loss_tracker.update_state(loss)\n",
    "        return {\"loss\": self.loss_tracker.result()}"
   ]
  },
  {
   "cell_type": "code",
   "execution_count": 85,
   "id": "a4d3d2cb",
   "metadata": {},
   "outputs": [
    {
     "name": "stdout",
     "output_type": "stream",
     "text": [
      "Model: \"funsolve2_4\"\n",
      "_________________________________________________________________\n",
      " Layer (type)                Output Shape              Param #   \n",
      "=================================================================\n",
      " dense_78 (Dense)            (None, 10)                20        \n",
      "                                                                 \n",
      " dense_79 (Dense)            (None, 10)                110       \n",
      "                                                                 \n",
      " dense_80 (Dense)            (None, 10)                110       \n",
      "                                                                 \n",
      " dense_81 (Dense)            (None, 10)                110       \n",
      "                                                                 \n",
      " dense_82 (Dense)            (None, 1)                 11        \n",
      "                                                                 \n",
      "=================================================================\n",
      "Total params: 361 (1.41 KB)\n",
      "Trainable params: 361 (1.41 KB)\n",
      "Non-trainable params: 0 (0.00 Byte)\n",
      "_________________________________________________________________\n"
     ]
    }
   ],
   "source": [
    "model_2 = Funsolve2()    \n",
    "model_2.add(Dense(10,activation ='tanh', input_shape=(1,)))\n",
    "model_2.add(Dense(10, activation ='tanh'))\n",
    "model_2.add(Dense(10, activation ='tanh'))\n",
    "model_2.add(Dense(10, activation ='sigmoid'))\n",
    "model_2.add(Dense(1, activation ='linear')) \n",
    "model_2.summary()  "
   ]
  },
  {
   "cell_type": "code",
   "execution_count": 86,
   "id": "0d23c165",
   "metadata": {},
   "outputs": [
    {
     "name": "stdout",
     "output_type": "stream",
     "text": [
      "4/4 [==============================] - 0s 1ms/step\n"
     ]
    }
   ],
   "source": [
    "model_2.compile(optimizer=Adam(), metrics=['loss'])\n",
    "x = tf.linspace(-1,1,100)\n",
    "history = model_2.fit(x,epochs=1800,verbose=0)\n",
    "x_test = tf.linspace(-1,1,100)\n",
    "a = model_2.predict(x_test)\n",
    "model.save(\"eq2.keras\")"
   ]
  },
  {
   "cell_type": "code",
   "execution_count": 87,
   "id": "fbdf8505",
   "metadata": {},
   "outputs": [
    {
     "data": {
      "image/png": "[encoded data removed]",
      "text/plain": [
       "<Figure size 720x432 with 1 Axes>"
      ]
     },
     "metadata": {
      "needs_background": "light"
     },
     "output_type": "display_data"
    }
   ],
   "source": [
    "plt.figure(figsize=(10,6))\n",
    "plt.plot(x_test,a)\n",
    "plt.plot(x_test, 1+2*x+4*(x**3))\n",
    "legend = ['Grafica red','Grafica función']\n",
    "plt.legend(loc='upper left', labels= legend)\n",
    "plt.show()"
   ]
  },
  {
   "cell_type": "code",
   "execution_count": null,
   "id": "385f7e60",
   "metadata": {},
   "outputs": [],
   "source": []
  }
 ],
 "metadata": {
  "kernelspec": {
   "display_name": "Python 3 (ipykernel)",
   "language": "python",
   "name": "python3"
  },
  "language_info": {
   "codemirror_mode": {
    "name": "ipython",
    "version": 3
   },
   "file_extension": ".py",
   "mimetype": "text/x-python",
   "name": "python",
   "nbconvert_exporter": "python",
   "pygments_lexer": "ipython3",
   "version": "3.9.7"
  }
 },
 "nbformat": 4,
 "nbformat_minor": 5
}
