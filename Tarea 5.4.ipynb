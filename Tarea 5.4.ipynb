{
 "cells": [
  {
   "cell_type": "code",
   "execution_count": 1,
   "id": "25c24f00",
   "metadata": {},
   "outputs": [],
   "source": [
    "import tensorflow as tf\n",
    "from tensorflow import keras\n",
    "from tensorflow.keras.models import Sequential\n",
    "from tensorflow.keras.layers import Dense, Dropout,Activation\n",
    "from tensorflow.keras.optimizers import RMSprop, Adam\n",
    "\n",
    "from matplotlib import pyplot as plt\n",
    "import numpy as np"
   ]
  },
  {
   "cell_type": "code",
   "execution_count": 15,
   "id": "82a89da3",
   "metadata": {},
   "outputs": [],
   "source": [
    "class ODEsolver(Sequential):\n",
    "    def __init__(self, **kwargs):\n",
    "        super().__init__(**kwargs)\n",
    "        self.loss_tracker = keras.metrics.Mean(name=\"loss\")\n",
    "        self.mse = tf.keras.losses.MeanSquaredError()\n",
    "\n",
    "    @property\n",
    "    def metrics(self):\n",
    "      return [self.loss_tracker]\n",
    "\n",
    "    def train_step(self, data):\n",
    "         batch_size = tf.shape(data)[0]\n",
    "         min = tf.cast(tf.reduce_min(data),tf.float32)\n",
    "         max = tf.cast(tf.reduce_max(data),tf.float32)\n",
    "         x = tf.random.uniform((batch_size,1), minval=min, maxval=max)\n",
    "\n",
    "         with tf.GradientTape() as tape:\n",
    "             with tf.GradientTape() as tape2:\n",
    "                 tape2.watch(x)\n",
    "                 y_pred = self(x, training=True)\n",
    "             dy = tape2.gradient(y_pred, x) #derivada del modelo con respecto a entradas x\n",
    "             x_o = tf.zeros((batch_size,1)) #valor de x en condicion inicial x_0=0\n",
    "             y_o = self(x_o,training=True) #valor del modelo en en x_0\n",
    "             eq = x*dy + y_pred - (x**2)*tf.cos(x) #Ecuacion diferencial evaluada en el modelo. Queremos que sea muy pequeno\n",
    "             ic = 0. #valor que queremos para la condicion inicial o el modelo en x_0\n",
    "             loss = self.mse(0., eq) + self.mse(y_o,ic)\n",
    "\n",
    "        # Apply grads\n",
    "         grads = tape.gradient(loss, self.trainable_variables)\n",
    "         self.optimizer.apply_gradients(zip(grads, self.trainable_variables))\n",
    "        #update metrics\n",
    "         self.loss_tracker.update_state(loss)\n",
    "        # Return a dict mapping metric names to current value\n",
    "         return {\"loss\": self.loss_tracker.result()}"
   ]
  },
  {
   "cell_type": "code",
   "execution_count": 20,
   "id": "fe2e5d06",
   "metadata": {},
   "outputs": [
    {
     "name": "stdout",
     "output_type": "stream",
     "text": [
      "Model: \"od_esolver_3\"\n",
      "_________________________________________________________________\n",
      " Layer (type)                Output Shape              Param #   \n",
      "=================================================================\n",
      " dense_9 (Dense)             (None, 10)                20        \n",
      "                                                                 \n",
      " dense_10 (Dense)            (None, 10)                110       \n",
      "                                                                 \n",
      " dense_11 (Dense)            (None, 10)                110       \n",
      "                                                                 \n",
      " dense_12 (Dense)            (None, 1)                 11        \n",
      "                                                                 \n",
      "=================================================================\n",
      "Total params: 251 (1004.00 Byte)\n",
      "Trainable params: 251 (1004.00 Byte)\n",
      "Non-trainable params: 0 (0.00 Byte)\n",
      "_________________________________________________________________\n"
     ]
    }
   ],
   "source": [
    "model = ODEsolver()\n",
    "\n",
    "model.add(Dense(10, activation='tanh', input_shape=(1,)))\n",
    "model.add(Dense(10, activation='tanh'))\n",
    "model.add(Dense(10, activation='tanh'))\n",
    "\n",
    "model.add(Dense(1))\n",
    "\n",
    "\n",
    "model.summary()"
   ]
  },
  {
   "cell_type": "code",
   "execution_count": 21,
   "id": "271c0ef7",
   "metadata": {},
   "outputs": [
    {
     "data": {
      "text/plain": [
       "[<matplotlib.lines.Line2D at 0x26aa06cdaf0>]"
      ]
     },
     "execution_count": 21,
     "metadata": {},
     "output_type": "execute_result"
    },
    {
     "data": {
      "image/png": "[encoded data removed]",
      "text/plain": [
       "<Figure size 432x288 with 1 Axes>"
      ]
     },
     "metadata": {
      "needs_background": "light"
     },
     "output_type": "display_data"
    }
   ],
   "source": [
    "model.compile(optimizer=RMSprop(),metrics=['loss'])\n",
    "\n",
    "x=tf.linspace(-5,5,100)\n",
    "history = model.fit(x,epochs=2500,verbose=0)\n",
    "plt.plot(history.history[\"loss\"])"
   ]
  },
  {
   "cell_type": "code",
   "execution_count": 22,
   "id": "75fde9f1",
   "metadata": {},
   "outputs": [
    {
     "name": "stdout",
     "output_type": "stream",
     "text": [
      "4/4 [==============================] - 0s 1ms/step\n"
     ]
    },
    {
     "data": {
      "image/png": "[encoded data removed]",
      "text/plain": [
       "<Figure size 432x288 with 1 Axes>"
      ]
     },
     "metadata": {
      "needs_background": "light"
     },
     "output_type": "display_data"
    }
   ],
   "source": [
    "x_testv = tf.linspace(-5,5,100)\n",
    "a=model.predict(x_testv)\n",
    "plt.plot(x_testv,a,label=\"aprox\")\n",
    "plt.plot(x_testv, (x**2-2)*np.sin(x)/x + 2*np.cos(x),label=\"exact\")\n",
    "plt.legend()\n",
    "plt.show()"
   ]
  },
  {
   "cell_type": "code",
   "execution_count": 49,
   "id": "9eeccb8c",
   "metadata": {},
   "outputs": [
    {
     "name": "stdout",
     "output_type": "stream",
     "text": [
      "Model: \"od_esolver_14\"\n",
      "_________________________________________________________________\n",
      " Layer (type)                Output Shape              Param #   \n",
      "=================================================================\n",
      " dense_55 (Dense)            (None, 100)               200       \n",
      "                                                                 \n",
      " dense_56 (Dense)            (None, 50)                5050      \n",
      "                                                                 \n",
      " dense_57 (Dense)            (None, 10)                510       \n",
      "                                                                 \n",
      " dense_58 (Dense)            (None, 10)                110       \n",
      "                                                                 \n",
      " dense_59 (Dense)            (None, 1)                 11        \n",
      "                                                                 \n",
      "=================================================================\n",
      "Total params: 5881 (22.97 KB)\n",
      "Trainable params: 5881 (22.97 KB)\n",
      "Non-trainable params: 0 (0.00 Byte)\n",
      "_________________________________________________________________\n"
     ]
    }
   ],
   "source": [
    "class ODEsolver(Sequential):\n",
    "    def __init__(self, **kwargs):\n",
    "        super().__init__(**kwargs)\n",
    "        self.loss_tracker = keras.metrics.Mean(name=\"loss\")\n",
    "        self.mse = tf.keras.losses.MeanSquaredError()\n",
    "\n",
    "    @property\n",
    "    def metrics(self):\n",
    "        return [self.loss_tracker]\n",
    "\n",
    "    def train_step(self, data):\n",
    "        batch_size = tf.shape(data)[0]\n",
    "        min = tf.cast(tf.reduce_min(data),tf.float32)\n",
    "        max = tf.cast(tf.reduce_max(data),tf.float32)\n",
    "        x = tf.random.uniform((batch_size,1), minval=min, maxval=max)\n",
    "        with tf.GradientTape() as tape:\n",
    "\n",
    "                    with tf.GradientTape(persistent=True) as gg:\n",
    "                        gg.watch(x)\n",
    "\n",
    "                        with tf.GradientTape(persistent=True) as ggg:\n",
    "                            x_o = tf.zeros((batch_size,1))\n",
    "                            ggg.watch(x)\n",
    "                            ggg.watch(x_o)\n",
    "                            y_pred = self(x, training=True)\n",
    "                            y_o = self(x_o, training=True)\n",
    "                        dy_dx = ggg.gradient(y_pred, x)\n",
    "                        dy_dxo = ggg.gradient(y_o, x_o)\n",
    "\n",
    "                    dy2_dx2 = gg.gradient(dy_dx, x)\n",
    "\n",
    "                    eq = dy2_dx2 + y_pred\n",
    "                    ic = y_o -1. \n",
    "                    ic2 = dy_dxo + 0.5\n",
    "                    loss = keras.losses.mean_squared_error(0.,eq) + keras.losses.mean_squared_error(0., ic)+ keras.losses.mean_squared_error(0.,ic2)\n",
    "\n",
    "\n",
    "\n",
    "\n",
    "                #aplica los gradientes        \n",
    "        grads = tape.gradient(loss, self.trainable_variables)\n",
    "        self.optimizer.apply_gradients(zip(grads, self.trainable_variables))\n",
    "\n",
    "\n",
    "        #actualiza metricas\n",
    "        self.loss_tracker.update_state(loss)\n",
    "\n",
    "        return {\"loss\": self.loss_tracker.result()}\n",
    "            \n",
    "model = ODEsolver()\n",
    "model.add(Dense(100, activation='tanh', input_shape=(1,)))\n",
    "model.add(Dense(50, activation='tanh'))\n",
    "model.add(Dense(10, activation='tanh'))\n",
    "model.add(Dense(10, activation='sigmoid'))\n",
    "model.add(Dense(1))\n",
    "model.summary()\n",
    "model.compile(optimizer=RMSprop(),metrics=['loss'])\n",
    "\n",
    "x=tf.linspace(-5,5,100)\n",
    "history = model.fit(x,epochs=2500,verbose=0)"
   ]
  },
  {
   "cell_type": "code",
   "execution_count": 50,
   "id": "61c754d5",
   "metadata": {},
   "outputs": [
    {
     "data": {
      "text/plain": [
       "[<matplotlib.lines.Line2D at 0x26aa3df7ac0>]"
      ]
     },
     "execution_count": 50,
     "metadata": {},
     "output_type": "execute_result"
    },
    {
     "data": {
      "image/png": "[encoded data removed]",
      "text/plain": [
       "<Figure size 432x288 with 1 Axes>"
      ]
     },
     "metadata": {
      "needs_background": "light"
     },
     "output_type": "display_data"
    }
   ],
   "source": [
    "plt.plot(history.history[\"loss\"])"
   ]
  },
  {
   "cell_type": "code",
   "execution_count": 51,
   "id": "cc7c0bf6",
   "metadata": {},
   "outputs": [
    {
     "name": "stdout",
     "output_type": "stream",
     "text": [
      "4/4 [==============================] - 0s 1ms/step\n"
     ]
    },
    {
     "data": {
      "image/png": "[encoded data removed]",
      "text/plain": [
       "<Figure size 432x288 with 1 Axes>"
      ]
     },
     "metadata": {
      "needs_background": "light"
     },
     "output_type": "display_data"
    }
   ],
   "source": [
    "x_testv = tf.linspace(-5,5,100)\n",
    "a=model.predict(x_testv)\n",
    "plt.plot(x_testv,a,label=\"aprox\")\n",
    "plt.plot(x_testv, np.cos(x)-0.5*np.sin(x),label=\"exact\")\n",
    "plt.legend()\n",
    "plt.show()"
   ]
  },
  {
   "cell_type": "code",
   "execution_count": null,
   "id": "eff65808",
   "metadata": {},
   "outputs": [],
   "source": []
  }
 ],
 "metadata": {
  "kernelspec": {
   "display_name": "Python 3 (ipykernel)",
   "language": "python",
   "name": "python3"
  },
  "language_info": {
   "codemirror_mode": {
    "name": "ipython",
    "version": 3
   },
   "file_extension": ".py",
   "mimetype": "text/x-python",
   "name": "python",
   "nbconvert_exporter": "python",
   "pygments_lexer": "ipython3",
   "version": "3.9.7"
  }
 },
 "nbformat": 4,
 "nbformat_minor": 5
}
